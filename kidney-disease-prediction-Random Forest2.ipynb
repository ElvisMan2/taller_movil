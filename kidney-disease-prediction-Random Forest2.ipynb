{
 "cells": [
  {
   "cell_type": "markdown",
   "metadata": {},
   "source": [
    "## usando las 10 variables mas importantes mas la edad"
   ]
  },
  {
   "cell_type": "code",
   "execution_count": 12,
   "metadata": {
    "_cell_guid": "b1076dfc-b9ad-4769-8c92-a6c4dae69d19",
    "_uuid": "8f2839f25d086af736a60e9eeb907d3b93b6e0e5",
    "execution": {
     "iopub.execute_input": "2024-06-14T20:50:31.265714Z",
     "iopub.status.busy": "2024-06-14T20:50:31.264762Z",
     "iopub.status.idle": "2024-06-14T20:50:31.274715Z",
     "shell.execute_reply": "2024-06-14T20:50:31.273632Z",
     "shell.execute_reply.started": "2024-06-14T20:50:31.265678Z"
    },
    "trusted": true
   },
   "outputs": [
    {
     "name": "stdout",
     "output_type": "stream",
     "text": [
      "Classification Report:\n",
      "              precision    recall  f1-score   support\n",
      "\n",
      "           0       0.88      0.95      0.91       381\n",
      "           1       0.95      0.89      0.92       419\n",
      "\n",
      "    accuracy                           0.92       800\n",
      "   macro avg       0.92      0.92      0.91       800\n",
      "weighted avg       0.92      0.92      0.92       800\n",
      "\n",
      "Confusion Matrix:\n",
      "[[361  20]\n",
      " [ 48 371]]\n"
     ]
    },
    {
     "data": {
      "image/png": "[encoded data removed]",
      "text/plain": [
       "<Figure size 640x480 with 2 Axes>"
      ]
     },
     "metadata": {},
     "output_type": "display_data"
    },
    {
     "name": "stdout",
     "output_type": "stream",
     "text": [
      "ROC-AUC Score: 0.96\n"
     ]
    }
   ],
   "source": [
    "import pandas as pd \n",
    "\n",
    "# Carga de los datos\n",
    "url = 'https://raw.githubusercontent.com/ElvisMan2/taller_movil/main/Chronic_Kidney_Dsease_data_new.csv'\n",
    "data = pd.read_csv(url)\n",
    "\n",
    "# Eliminar las columnas 'PatientID' y 'DoctorInCharge' del DataFrame\n",
    "data = data.drop(['PatientID', 'DoctorInCharge'], axis=1)\n",
    "\n",
    "# Importar train_test_split para dividir los datos en conjuntos de entrenamiento y prueba\n",
    "from sklearn.model_selection import train_test_split\n",
    "\n",
    "# Importar StandardScaler para estandarizar las características\n",
    "from sklearn.preprocessing import StandardScaler\n",
    "\n",
    "# Importar RandomForestClassifier para crear un modelo de clasificación usando Random Forest\n",
    "from sklearn.ensemble import RandomForestClassifier\n",
    "\n",
    "# Importar métricas para evaluar el rendimiento del modelo\n",
    "from sklearn.metrics import classification_report, confusion_matrix, roc_auc_score\n",
    "\n",
    "# Importar SMOTE para aplicar sobremuestreo a las clases minoritarias\n",
    "from imblearn.over_sampling import SMOTE\n",
    "\n",
    "# Importar matplotlib.pyplot para crear gráficos\n",
    "import matplotlib.pyplot as plt\n",
    "\n",
    "# Importar seaborn para visualizaciones de datos\n",
    "import seaborn as sns\n",
    "\n",
    "# Lista de las 10 variables más importantes (según tus resultados)\n",
    "top_features = [\n",
    "    'SerumCreatinine',\n",
    "    'GFR',\n",
    "    'ProteinInUrine',\n",
    "    'Itching',\n",
    "    'MuscleCramps',\n",
    "    'SerumElectrolytesSodium',\n",
    "#    'BUNLevels',\n",
    "#    'FastingBloodSugar',\n",
    "#    'HbA1c',\n",
    "#    'HealthLiteracy',\n",
    "    'Age',\n",
    "    'Gender'\n",
    "]\n",
    "\n",
    "\n",
    "# Separar las características (X) y la variable objetivo (y)\n",
    " # Filtrar X con solo esas columnas\n",
    "X = data[top_features]\n",
    "y = data['Diagnosis']\n",
    "\n",
    "# Crear una instancia de StandardScaler para estandarizar las características\n",
    "scaler = StandardScaler()\n",
    "\n",
    "# Ajustar el escalador y transformar las características\n",
    "X_scaled = scaler.fit_transform(X)\n",
    "\n",
    "# Crear una instancia de SMOTE para aplicar sobremuestreo a las clases minoritarias\n",
    "smote = SMOTE(random_state=42)\n",
    "\n",
    "# Aplicar SMOTE para equilibrar las clases en el conjunto de datos\n",
    "X_res, y_res = smote.fit_resample(X_scaled, y)\n",
    "\n",
    "# Dividir los datos en conjuntos de entrenamiento y prueba\n",
    "X_train, X_test, y_train, y_test = train_test_split(X_res, y_res, test_size=0.2, random_state=42)\n",
    "\n",
    "# Crear una instancia de RandomForestClassifier con un estado aleatorio fijo para reproducibilidad\n",
    "rf_model = RandomForestClassifier(random_state=42)\n",
    "\n",
    "# Ajustar el modelo RandomForestClassifier usando los datos de entrenamiento *\n",
    "rf_model.fit(X_train, y_train)\n",
    "\n",
    "# Realizar predicciones en los datos de prueba *\n",
    "y_pred = rf_model.predict(X_test)\n",
    "\n",
    "# Imprimir el informe de clasificación para evaluar el rendimiento del modelo\n",
    "print(\"Classification Report:\")\n",
    "print(classification_report(y_test, y_pred))\n",
    "\n",
    "# Imprimir la matriz de confusión para analizar los errores de clasificación\n",
    "print(\"Confusion Matrix:\")\n",
    "conf_matrix = confusion_matrix(y_test, y_pred)\n",
    "print(conf_matrix)\n",
    "\n",
    "# Crear un mapa de calor para visualizar la matriz de confusión\n",
    "sns.heatmap(conf_matrix, annot=True, fmt='d', cmap='Blues')\n",
    "\n",
    "plt.xlabel('Predicted')\n",
    "plt.ylabel('Actual')\n",
    "plt.title('Confusion Matrix')\n",
    "plt.show()\n",
    "\n",
    "# Calcular el puntaje ROC-AUC usando las probabilidades de predicción del modelo RandomForest\n",
    "roc_auc = roc_auc_score(y_test, rf_model.predict_proba(X_test)[:, 1])\n",
    "\n",
    "# Imprimir el puntaje ROC-AUC\n",
    "print(f\"ROC-AUC Score: {roc_auc:.2f}\")\n"
   ]
  },
  {
   "cell_type": "code",
   "execution_count": 6,
   "metadata": {},
   "outputs": [
    {
     "name": "stdout",
     "output_type": "stream",
     "text": [
      "datos reales\n",
      "[1 0 1 1 0 1 0 1 1 1 0 1 1 1 1 0 1 1 1 1 1 0 1 0 0 1 1 0 0 1 0 1 1 0 0 1 1\n",
      " 0 0 1 0 1 0 1 0 1 0 1 1 0 1 1 1 0 1 1 0 1 0 1 0 1 0 0 0 1 1 1 0 0 1 0 0 1\n",
      " 1 0 1 0 1 0 0 1 1 1 0 1 1 0 0 0 1 0 0 1 0 1 1 1 1 1 1 0 0 1 0 1 1 1 0 0 0\n",
      " 0 1 0 1 1 1 1 1 0 0 0 1 0 1 0 0 1 0 1 0 1 0 0 0 0 0 0 1 0 0 1 1 1 1 0 0 1\n",
      " 0 0 0 0 1 0 0 0 1 0 0 0 0 1 0 0 1 1 1 0 1 1 1 1 1 1 0 1 0 1 0 0 0 1 1 1 0\n",
      " 0 0 0 1 1 0 0 1 0 1 1 1 0 1 0 0 1 0 1 0 0 1 0 1 0 1 1 0 0 1 1 0 0 1 1 1 0\n",
      " 0 1 0 0 1 1 0 0 1 0 0 0 1 1 1 1 1 1 1 0 0 1 1 1 0 0 0 1 1 1 1 0 0 0 0 0 1\n",
      " 1 1 1 1 0 1 0 0 1 1 0 1 0 0 0 0 1 1 1 0 0 0 1 1 0 0 1 0 0 1 1 0 0 1 0 1 1\n",
      " 1 0 1 1 1 1 1 1 1 0 1 0 1 1 0 0 0 0 1 0 1 0 1 1 0 0 1 1 1 1 0 1 0 1 1 1 1\n",
      " 0 1 0 1 1 1 0 0 1 1 0 0 0 1 0 0 0 1 1 0 1 1 0 1 0 1 0 0 0 1 1 0 1 1 0 1 0\n",
      " 1 0 0 1 0 0 1 1 0 1 1 1 1 0 1 1 1 1 1 1 1 1 0 0 0 0 0 1 0 1 0 1 0 1 1 1 1\n",
      " 0 0 1 1 0 1 1 1 1 1 1 0 0 0 1 1 0 1 1 1 1 1 1 1 0 0 0 1 1 1 1 1 0 1 0 1 0\n",
      " 1 1 1 0 0 1 1 0 0 0 1 0 0 0 0 1 0 0 1 1 1 0 1 0 0 0 1 0 1 1 1 1 1 0 0 1 1\n",
      " 1 1 1 0 1 1 1 1 1 1 1 0 0 0 0 1 1 0 1 1 1 1 1 1 0 0 0 1 0 0 0 1 0 1 0 0 1\n",
      " 1 1 0 0 1 1 0 0 0 0 0 1 0 1 0 0 1 0 1 1 0 0 0 1 1 1 1 0 1 1 0 0 0 1 0 1 1\n",
      " 0 1 1 0 1 1 1 1 1 1 0 1 0 0 0 0 0 1 1 1 0 1 1 1 1 0 0 0 1 1 1 0 0 1 1 0 0\n",
      " 1 0 0 1 1 0 1 0 1 1 0 1 1 0 0 0 1 0 0 0 0 1 1 0 0 1 0 0 0 0 1 0 1 1 1 1 0\n",
      " 1 1 1 0 0 1 0 1 1 0 0 0 0 0 1 1 1 0 0 0 1 1 1 1 0 0 0 1 1 1 0 0 0 1 1 0 1\n",
      " 0 1 0 0 1 0 1 1 0 0 0 0 1 1 0 0 0 0 1 1 1 0 0 1 1 0 1 1 0 0 0 1 1 0 1 1 0\n",
      " 1 0 0 1 0 1 0 0 1 0 1 0 0 1 0 0 0 1 0 0 1 0 1 1 0 1 0 1 0 0 1 0 1 0 1 0 0\n",
      " 1 1 1 1 0 0 0 1 0 0 1 0 0 0 1 1 1 1 1 1 0 1 0 0 0 0 0 0 0 1 0 0 0 1 0 0 1\n",
      " 1 1 1 0 0 0 0 1 1 0 0 0 1 1 1 1 0 1 0 1 1 1 0]\n",
      "Predicciones de y_test:\n",
      "[0 0 1 1 0 1 0 1 1 1 0 1 1 1 1 0 1 1 1 1 1 0 1 0 0 1 1 0 0 1 0 0 1 0 0 1 1\n",
      " 0 1 1 0 1 0 1 0 1 0 1 1 0 1 1 1 0 1 1 0 1 0 1 0 1 0 0 0 1 1 1 0 0 1 0 0 1\n",
      " 0 0 1 0 1 0 0 1 1 1 0 1 1 0 0 0 1 0 0 1 0 0 1 1 1 1 1 0 0 1 0 0 1 1 0 0 0\n",
      " 0 1 0 1 0 1 1 1 0 0 0 1 1 1 0 0 1 0 1 0 1 0 0 0 0 0 0 1 0 0 1 1 1 0 0 0 0\n",
      " 0 0 0 0 0 0 1 0 1 0 0 0 0 1 0 0 1 1 1 1 1 1 1 1 1 1 0 1 0 1 0 0 0 1 1 1 0\n",
      " 0 0 0 1 1 0 0 1 0 1 1 1 0 1 0 0 1 0 1 0 0 1 0 1 0 1 1 0 0 1 1 0 0 1 1 1 0\n",
      " 0 1 0 0 0 1 0 0 1 0 0 0 1 1 0 1 0 1 1 0 0 1 0 1 0 1 0 1 1 1 1 0 0 0 0 0 1\n",
      " 1 1 1 1 0 1 0 0 1 1 0 1 0 0 0 0 1 1 1 0 0 0 1 1 0 0 1 0 0 1 1 0 0 1 0 1 1\n",
      " 1 0 1 1 1 1 1 1 1 0 1 0 1 0 0 0 0 0 1 0 0 0 1 1 0 0 1 1 0 0 0 1 0 1 1 0 0\n",
      " 1 1 0 1 1 1 0 0 1 1 0 0 0 1 0 0 0 1 1 1 0 1 0 1 0 1 0 0 0 1 1 0 1 1 0 1 1\n",
      " 0 0 0 1 0 0 1 1 0 1 1 0 1 0 1 1 1 1 1 1 1 1 0 0 0 0 0 0 0 1 0 1 0 1 1 1 0\n",
      " 0 0 1 1 1 1 1 1 1 1 1 0 0 0 1 1 1 1 1 1 1 1 1 1 0 0 0 1 1 1 0 1 0 1 0 1 0\n",
      " 1 1 1 0 0 1 1 1 0 0 1 0 0 0 0 1 0 0 1 1 1 0 1 0 0 0 0 0 1 1 1 1 1 0 0 1 1\n",
      " 0 1 1 0 1 1 1 1 1 1 1 0 0 0 0 1 1 0 1 1 1 1 1 1 0 0 0 1 0 0 1 1 0 1 0 0 1\n",
      " 1 1 0 0 1 1 0 0 0 0 0 1 0 0 0 0 1 0 1 1 0 0 0 0 1 1 1 0 1 1 0 0 0 1 0 1 1\n",
      " 0 1 1 0 1 1 1 1 1 1 1 1 0 0 0 0 0 1 1 1 1 1 1 1 1 0 0 0 1 1 0 0 0 1 1 0 0\n",
      " 1 0 0 0 1 0 1 0 1 1 1 1 1 0 0 0 1 0 0 0 0 0 0 0 0 1 0 0 0 0 1 0 1 1 1 1 0\n",
      " 1 1 1 0 0 0 0 1 1 0 0 0 0 0 1 1 1 0 0 0 1 1 1 1 0 0 0 1 1 1 0 0 0 1 1 0 1\n",
      " 0 1 0 0 1 0 1 1 0 0 0 1 1 1 0 0 0 0 1 1 1 0 0 0 0 0 1 1 0 0 0 1 1 0 0 1 0\n",
      " 0 0 0 1 0 1 0 0 1 0 1 0 0 1 0 0 0 1 0 0 1 0 1 1 0 1 0 1 0 0 1 0 1 0 1 0 0\n",
      " 1 1 1 1 0 0 0 1 0 0 1 0 0 0 1 1 1 1 1 1 1 0 0 0 0 0 0 0 0 1 0 0 0 1 0 0 1\n",
      " 1 1 1 0 0 0 0 1 1 0 0 0 1 1 1 1 0 1 1 1 1 1 0]\n"
     ]
    }
   ],
   "source": [
    "print(\"datos reales\")\n",
    "print (y_test.to_numpy())\n",
    "\n",
    "print(\"Predicciones de y_test:\")\n",
    "print(y_pred)\n",
    "\n"
   ]
  }
 ],
 "metadata": {
  "kernelspec": {
   "display_name": "Python 3",
   "language": "python",
   "name": "python3"
  },
  "language_info": {
   "codemirror_mode": {
    "name": "ipython",
    "version": 3
   },
   "file_extension": ".py",
   "mimetype": "text/x-python",
   "name": "python",
   "nbconvert_exporter": "python",
   "pygments_lexer": "ipython3",
   "version": "3.12.6"
  }
 },
 "nbformat": 4,
 "nbformat_minor": 4
}
