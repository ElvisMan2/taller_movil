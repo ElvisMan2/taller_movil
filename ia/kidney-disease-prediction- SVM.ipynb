{
 "cells": [
  {
   "cell_type": "code",
   "execution_count": 1,
   "metadata": {},
   "outputs": [
    {
     "name": "stdout",
     "output_type": "stream",
     "text": [
      "Classification Report:\n",
      "              precision    recall  f1-score   support\n",
      "\n",
      "           0       0.85      0.89      0.87       381\n",
      "           1       0.90      0.86      0.88       419\n",
      "\n",
      "    accuracy                           0.88       800\n",
      "   macro avg       0.87      0.88      0.87       800\n",
      "weighted avg       0.88      0.88      0.88       800\n",
      "\n",
      "Confusion Matrix:\n",
      "[[340  41]\n",
      " [ 59 360]]\n"
     ]
    },
    {
     "data": {
      "image/png": "[encoded data removed]",
      "text/plain": [
       "<Figure size 640x480 with 2 Axes>"
      ]
     },
     "metadata": {},
     "output_type": "display_data"
    },
    {
     "name": "stdout",
     "output_type": "stream",
     "text": [
      "ROC AUC Score: 0.8757884977981572\n"
     ]
    }
   ],
   "source": [
    "# Importar librerías necesarias\n",
    "from sklearn.model_selection import train_test_split\n",
    "from sklearn.preprocessing import StandardScaler\n",
    "from sklearn.svm import SVC\n",
    "from sklearn.metrics import classification_report, confusion_matrix, roc_auc_score\n",
    "from imblearn.over_sampling import SMOTE\n",
    "import matplotlib.pyplot as plt\n",
    "import seaborn as sns\n",
    "import pandas as pd # data processing, CSV file I/O (e.g. pd.read_csv)\n",
    "\n",
    "# Carga de los datos\n",
    "url = 'https://raw.githubusercontent.com/ElvisMan2/taller_movil/main/Chronic_Kidney_Dsease_data_new.csv'\n",
    "data = pd.read_csv(url)\n",
    "\n",
    "# Separar las características (X) y la variable objetivo (y)\n",
    "X = data.drop(['Diagnosis', 'PatientID', 'DoctorInCharge'], axis=1)\n",
    "y = data['Diagnosis']\n",
    "\n",
    "# Crear una instancia de StandardScaler para estandarizar las características\n",
    "scaler = StandardScaler()\n",
    "X_scaled = scaler.fit_transform(X)\n",
    "\n",
    "# Crear una instancia de SMOTE para aplicar sobremuestreo a las clases minoritarias\n",
    "smote = SMOTE(random_state=42)\n",
    "X_res, y_res = smote.fit_resample(X_scaled, y)\n",
    "\n",
    "# Dividir los datos en conjuntos de entrenamiento y prueba\n",
    "X_train, X_test, y_train, y_test = train_test_split(X_res, y_res, test_size=0.2, random_state=42)\n",
    "\n",
    "# Crear una instancia de SVC (Support Vector Classifier) con un kernel lineal\n",
    "svm_model = SVC(kernel='linear', random_state=42)\n",
    "\n",
    "# Ajustar el modelo SVC usando los datos de entrenamiento\n",
    "svm_model.fit(X_train, y_train)\n",
    "\n",
    "# Realizar predicciones en los datos de prueba\n",
    "y_pred = svm_model.predict(X_test)\n",
    "\n",
    "# Imprimir el informe de clasificación para evaluar el rendimiento del modelo\n",
    "print(\"Classification Report:\")\n",
    "print(classification_report(y_test, y_pred))\n",
    "\n",
    "# Imprimir la matriz de confusión para analizar los errores de clasificación\n",
    "print(\"Confusion Matrix:\")\n",
    "conf_matrix = confusion_matrix(y_test, y_pred)\n",
    "print(conf_matrix)\n",
    "\n",
    "# Crear un mapa de calor para visualizar la matriz de confusión\n",
    "sns.heatmap(conf_matrix, annot=True, fmt='d', cmap='Blues')\n",
    "\n",
    "plt.xlabel('Predicted')\n",
    "plt.ylabel('Actual')\n",
    "plt.title('Confusion Matrix')\n",
    "plt.show()\n",
    "\n",
    "# Calcular y mostrar la puntuación AUC-ROC\n",
    "roc_auc = roc_auc_score(y_test, y_pred)\n",
    "print(f\"ROC AUC Score: {roc_auc}\")\n"
   ]
  },
  {
   "cell_type": "code",
   "execution_count": 2,
   "metadata": {},
   "outputs": [
    {
     "name": "stdout",
     "output_type": "stream",
     "text": [
      "datos reales\n",
      "[1 0 1 1 0 1 0 1 1 1 0 1 1 1 1 0 1 1 1 1 1 0 1 0 0 1 1 0 0 1 0 1 1 0 0 1 1\n",
      " 0 0 1 0 1 0 1 0 1 0 1 1 0 1 1 1 0 1 1 0 1 0 1 0 1 0 0 0 1 1 1 0 0 1 0 0 1\n",
      " 1 0 1 0 1 0 0 1 1 1 0 1 1 0 0 0 1 0 0 1 0 1 1 1 1 1 1 0 0 1 0 1 1 1 0 0 0\n",
      " 0 1 0 1 1 1 1 1 0 0 0 1 0 1 0 0 1 0 1 0 1 0 0 0 0 0 0 1 0 0 1 1 1 1 0 0 1\n",
      " 0 0 0 0 1 0 0 0 1 0 0 0 0 1 0 0 1 1 1 0 1 1 1 1 1 1 0 1 0 1 0 0 0 1 1 1 0\n",
      " 0 0 0 1 1 0 0 1 0 1 1 1 0 1 0 0 1 0 1 0 0 1 0 1 0 1 1 0 0 1 1 0 0 1 1 1 0\n",
      " 0 1 0 0 1 1 0 0 1 0 0 0 1 1 1 1 1 1 1 0 0 1 1 1 0 0 0 1 1 1 1 0 0 0 0 0 1\n",
      " 1 1 1 1 0 1 0 0 1 1 0 1 0 0 0 0 1 1 1 0 0 0 1 1 0 0 1 0 0 1 1 0 0 1 0 1 1\n",
      " 1 0 1 1 1 1 1 1 1 0 1 0 1 1 0 0 0 0 1 0 1 0 1 1 0 0 1 1 1 1 0 1 0 1 1 1 1\n",
      " 0 1 0 1 1 1 0 0 1 1 0 0 0 1 0 0 0 1 1 0 1 1 0 1 0 1 0 0 0 1 1 0 1 1 0 1 0\n",
      " 1 0 0 1 0 0 1 1 0 1 1 1 1 0 1 1 1 1 1 1 1 1 0 0 0 0 0 1 0 1 0 1 0 1 1 1 1\n",
      " 0 0 1 1 0 1 1 1 1 1 1 0 0 0 1 1 0 1 1 1 1 1 1 1 0 0 0 1 1 1 1 1 0 1 0 1 0\n",
      " 1 1 1 0 0 1 1 0 0 0 1 0 0 0 0 1 0 0 1 1 1 0 1 0 0 0 1 0 1 1 1 1 1 0 0 1 1\n",
      " 1 1 1 0 1 1 1 1 1 1 1 0 0 0 0 1 1 0 1 1 1 1 1 1 0 0 0 1 0 0 0 1 0 1 0 0 1\n",
      " 1 1 0 0 1 1 0 0 0 0 0 1 0 1 0 0 1 0 1 1 0 0 0 1 1 1 1 0 1 1 0 0 0 1 0 1 1\n",
      " 0 1 1 0 1 1 1 1 1 1 0 1 0 0 0 0 0 1 1 1 0 1 1 1 1 0 0 0 1 1 1 0 0 1 1 0 0\n",
      " 1 0 0 1 1 0 1 0 1 1 0 1 1 0 0 0 1 0 0 0 0 1 1 0 0 1 0 0 0 0 1 0 1 1 1 1 0\n",
      " 1 1 1 0 0 1 0 1 1 0 0 0 0 0 1 1 1 0 0 0 1 1 1 1 0 0 0 1 1 1 0 0 0 1 1 0 1\n",
      " 0 1 0 0 1 0 1 1 0 0 0 0 1 1 0 0 0 0 1 1 1 0 0 1 1 0 1 1 0 0 0 1 1 0 1 1 0\n",
      " 1 0 0 1 0 1 0 0 1 0 1 0 0 1 0 0 0 1 0 0 1 0 1 1 0 1 0 1 0 0 1 0 1 0 1 0 0\n",
      " 1 1 1 1 0 0 0 1 0 0 1 0 0 0 1 1 1 1 1 1 0 1 0 0 0 0 0 0 0 1 0 0 0 1 0 0 1\n",
      " 1 1 1 0 0 0 0 1 1 0 0 0 1 1 1 1 0 1 0 1 1 1 0]\n",
      "Predicciones de y_test:\n",
      "[0 0 1 1 0 1 1 1 1 1 0 1 1 1 1 0 1 1 0 1 1 0 1 0 0 1 1 0 0 1 0 1 0 0 0 1 1\n",
      " 0 0 0 1 1 0 1 1 0 0 1 1 0 1 1 1 0 1 1 0 1 0 0 0 1 0 0 1 0 1 0 0 0 1 0 0 1\n",
      " 1 0 1 0 1 0 1 1 1 1 0 1 1 0 0 0 1 0 0 1 0 1 1 1 1 1 1 0 0 1 0 1 1 1 1 0 1\n",
      " 0 1 1 1 1 1 1 1 0 0 0 1 0 0 0 0 1 0 1 0 1 0 0 0 0 0 0 1 0 0 1 1 1 1 1 0 1\n",
      " 0 0 0 0 1 0 0 0 0 0 0 0 0 0 0 0 1 1 1 0 1 0 1 0 0 1 0 1 0 1 0 1 0 1 0 1 0\n",
      " 0 0 0 1 1 0 0 1 0 1 1 1 0 1 0 0 1 1 1 0 0 1 0 0 0 1 1 0 0 1 1 0 0 1 1 1 0\n",
      " 0 1 0 0 0 1 0 1 1 1 0 0 1 0 1 1 1 1 1 0 0 1 0 1 0 1 0 1 1 0 1 0 1 0 0 1 1\n",
      " 1 1 1 1 0 1 0 0 1 1 0 1 0 0 0 1 1 1 1 0 0 1 1 1 0 0 1 0 0 1 1 0 1 0 0 1 1\n",
      " 1 0 1 0 1 1 1 1 1 0 1 0 1 0 0 0 0 0 0 0 1 0 1 1 0 0 1 1 1 0 0 1 0 1 1 0 0\n",
      " 0 1 0 1 1 1 0 0 1 1 0 0 0 0 0 0 0 1 1 1 1 1 0 1 0 1 0 0 0 1 1 0 0 1 0 1 1\n",
      " 0 0 0 0 0 0 1 1 0 1 1 0 0 0 1 1 1 1 1 1 1 0 0 0 0 0 0 1 0 1 0 1 0 1 1 1 1\n",
      " 0 0 1 1 0 1 0 1 1 1 1 0 0 1 1 1 0 1 1 1 1 1 1 1 0 0 0 1 1 1 1 1 0 1 0 1 1\n",
      " 1 1 1 0 0 1 1 1 0 1 1 0 0 0 0 1 0 0 1 1 1 0 1 0 0 0 0 0 1 1 1 1 1 0 0 1 1\n",
      " 1 0 1 0 1 1 0 1 1 1 1 0 0 0 0 1 1 0 0 1 1 1 1 1 0 0 0 1 0 0 0 1 0 1 0 0 1\n",
      " 1 1 0 0 1 1 0 0 0 0 0 1 0 1 0 0 1 0 1 1 0 0 0 0 1 1 1 1 0 0 0 0 0 1 0 1 1\n",
      " 0 1 1 0 1 1 1 1 1 1 1 1 0 0 0 1 0 1 1 1 1 1 1 1 1 0 0 0 1 1 0 0 0 1 1 0 0\n",
      " 1 0 0 1 1 0 1 0 1 1 1 1 1 1 0 0 1 0 1 0 0 1 0 0 1 1 0 0 0 0 1 1 1 1 1 1 0\n",
      " 1 1 0 0 0 0 0 1 1 0 0 0 1 0 1 1 1 0 1 0 0 1 1 1 0 0 0 1 1 1 0 0 0 1 1 0 1\n",
      " 0 1 0 0 1 0 1 1 0 0 0 1 1 1 0 0 0 0 1 1 0 0 0 0 0 1 1 1 0 0 0 1 1 0 1 1 0\n",
      " 0 0 0 1 0 1 0 0 1 0 1 0 1 1 0 0 0 1 0 0 1 0 1 0 0 1 0 1 0 0 1 0 0 0 0 0 0\n",
      " 1 1 0 1 0 0 0 0 0 0 1 0 0 0 1 1 1 1 1 1 1 0 0 0 1 0 0 0 0 1 0 0 0 1 0 0 1\n",
      " 1 1 1 0 0 0 0 1 1 0 0 0 0 1 0 1 0 1 0 1 1 1 0]\n"
     ]
    }
   ],
   "source": [
    "print(\"datos reales\")\n",
    "print (y_test.to_numpy())\n",
    "\n",
    "print(\"Predicciones de y_test:\")\n",
    "print(y_pred)"
   ]
  }
 ],
 "metadata": {
  "kernelspec": {
   "display_name": "Python 3",
   "language": "python",
   "name": "python3"
  },
  "language_info": {
   "codemirror_mode": {
    "name": "ipython",
    "version": 3
   },
   "file_extension": ".py",
   "mimetype": "text/x-python",
   "name": "python",
   "nbconvert_exporter": "python",
   "pygments_lexer": "ipython3",
   "version": "3.12.6"
  }
 },
 "nbformat": 4,
 "nbformat_minor": 4
}
