{
 "cells": [
  {
   "cell_type": "code",
   "execution_count": 2,
   "id": "fb6356db",
   "metadata": {},
   "outputs": [
    {
     "name": "stdout",
     "output_type": "stream",
     "text": [
      "Antes del balanceo: Counter({1: 1524, 0: 135})\n",
      "Después del balanceo: Counter({1: 2000, 0: 2000})\n",
      "Archivo guardado como 'ckd_balanced_4000.csv'\n"
     ]
    }
   ],
   "source": [
    "import pandas as pd\n",
    "from imblearn.over_sampling import SMOTE\n",
    "from sklearn.preprocessing import LabelEncoder\n",
    "from collections import Counter\n",
    "\n",
    "# Cargar datos\n",
    "url = 'https://raw.githubusercontent.com/ElvisMan2/taller_movil/main/Chronic_Kidney_Dsease_data.csv'\n",
    "df = pd.read_csv(url)\n",
    "\n",
    "# Eliminar columnas irrelevantes\n",
    "df = df.drop(columns=['PatientID', 'DoctorInCharge'])\n",
    "\n",
    "# Separar X e y\n",
    "X = df.drop('Diagnosis', axis=1)\n",
    "y = df['Diagnosis']\n",
    "\n",
    "# Codificar etiquetas si son categóricas\n",
    "if y.dtype == 'object':\n",
    "    y = LabelEncoder().fit_transform(y)\n",
    "\n",
    "# Contar ejemplos actuales por clase\n",
    "conteo = Counter(y)\n",
    "print(\"Antes del balanceo:\", conteo)\n",
    "\n",
    "# Definir 2000 ejemplos para cada clase (total 4000)\n",
    "smote = SMOTE(sampling_strategy={0: 2000, 1: 2000}, random_state=42)\n",
    "\n",
    "# Generar datos balanceados\n",
    "X_res, y_res = smote.fit_resample(X, y)\n",
    "\n",
    "# Crear nuevo DataFrame\n",
    "df_balanced = pd.DataFrame(X_res, columns=X.columns)\n",
    "df_balanced['Diagnosis'] = y_res\n",
    "\n",
    "# Guardar a CSV\n",
    "df_balanced.to_csv('ckd_balanced_4000.csv', index=False)\n",
    "\n",
    "print(\"Después del balanceo:\", Counter(y_res))\n",
    "print(\"Archivo guardado como 'ckd_balanced_4000.csv'\")\n"
   ]
  }
 ],
 "metadata": {
  "kernelspec": {
   "display_name": "Python 3",
   "language": "python",
   "name": "python3"
  },
  "language_info": {
   "codemirror_mode": {
    "name": "ipython",
    "version": 3
   },
   "file_extension": ".py",
   "mimetype": "text/x-python",
   "name": "python",
   "nbconvert_exporter": "python",
   "pygments_lexer": "ipython3",
   "version": "3.12.6"
  }
 },
 "nbformat": 4,
 "nbformat_minor": 5
}
